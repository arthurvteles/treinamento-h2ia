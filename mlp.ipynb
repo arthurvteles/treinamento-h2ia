{
  "nbformat": 4,
  "nbformat_minor": 0,
  "metadata": {
    "colab": {
      "provenance": [],
      "authorship_tag": "ABX9TyMTmkHouxUhGia7zQKWa7NU",
      "include_colab_link": true
    },
    "kernelspec": {
      "name": "python3",
      "display_name": "Python 3"
    },
    "language_info": {
      "name": "python"
    }
  },
  "cells": [
    {
      "cell_type": "markdown",
      "metadata": {
        "id": "view-in-github",
        "colab_type": "text"
      },
      "source": [
        "<a href=\"https://colab.research.google.com/github/arthurvteles/treinamento-h2ia/blob/main/mlp.ipynb\" target=\"_parent\"><img src=\"https://colab.research.google.com/assets/colab-badge.svg\" alt=\"Open In Colab\"/></a>"
      ]
    },
    {
      "cell_type": "code",
      "execution_count": null,
      "metadata": {
        "id": "UaxALmLSZSRa"
      },
      "outputs": [],
      "source": [
        "import numpy as np\n",
        "from pprint import pprint\n",
        "from sklearn.datasets import load_digits\n",
        "from sklearn.model_selection import train_test_split\n",
        "from sklearn.preprocessing import StandardScaler\n",
        "from sklearn.metrics import accuracy_score, ConfusionMatrixDisplay"
      ]
    },
    {
      "cell_type": "code",
      "source": [
        "# Carrega os dados dos digitos\n",
        "digitos = load_digits()\n",
        "X, y = digitos.data, digitos.target\n",
        "\n",
        "# Separa os dados de treinamento usando 20%\n",
        "X_train, X_test, y_train, y_test = train_test_split(X, y, test_size=0.3, random_state=42)\n"
      ],
      "metadata": {
        "id": "pCH_4uFu2OSP"
      },
      "execution_count": null,
      "outputs": []
    },
    {
      "cell_type": "code",
      "source": [
        "import numpy as np\n",
        "\n",
        "class MLP:\n",
        "    def __init__(self, input_size, hidden_size, output_size):\n",
        "        self.weights_input_hidden = np.random.randn(input_size, hidden_size)\n",
        "        self.bias_hidden = np.zeros((1, hidden_size))\n",
        "        self.weights_hidden_output = np.random.randn(hidden_size, output_size)\n",
        "        self.bias_output = np.zeros((1, output_size))\n",
        "\n",
        "    def sigmoid(self, x):\n",
        "        return 1 / (1 + np.exp(-x))\n",
        "\n",
        "    def sigmoid_derivative(self, x):\n",
        "        return x * (1 - x)\n",
        "\n",
        "    def forward(self, inputs):\n",
        "        self.hidden_layer_input = np.dot(inputs, self.weights_input_hidden) + self.bias_hidden\n",
        "        self.hidden_layer_output = self.sigmoid(self.hidden_layer_input)\n",
        "        self.output_layer_input = np.dot(self.hidden_layer_output, self.weights_hidden_output) + self.bias_output\n",
        "        self.output_layer_output = self.sigmoid(self.output_layer_input)\n",
        "\n",
        "        return self.output_layer_output\n",
        "\n",
        "    def backward(self, inputs, targets, learning_rate):\n",
        "        #erro na camada de saída\n",
        "        error_output = targets - self.output_layer_output\n",
        "\n",
        "        # gradiente na camada de saída\n",
        "        delta_output = error_output * self.sigmoid_derivative(self.output_layer_output)\n",
        "\n",
        "        #erro na camada oculta\n",
        "        error_hidden = delta_output.dot(self.weights_hidden_output.T)\n",
        "\n",
        "        # gradiente na camada oculta\n",
        "        delta_hidden = error_hidden * self.sigmoid_derivative(self.hidden_layer_output)\n",
        "\n",
        "        self.weights_hidden_output += self.hidden_layer_output.T.dot(delta_output) * learning_rate\n",
        "        self.bias_output += np.sum(delta_output, axis=0, keepdims=True) * learning_rate\n",
        "        self.weights_input_hidden += inputs.T.dot(delta_hidden) * learning_rate\n",
        "        self.bias_hidden += np.sum(delta_hidden, axis=0, keepdims=True) * learning_rate\n",
        "\n",
        "\n",
        "    def fit(self, X, y, epochs):\n",
        "        for epoch in range(epochs):\n",
        "            self.forward(X)\n",
        "            self.backward(X, y , 0.01)\n",
        "\n",
        "    def predict(self, X):\n",
        "        self.forward(X)\n",
        "        return np.argmax(self.output_layer_output, axis=1)\n",
        "\n"
      ],
      "metadata": {
        "id": "uKTjUSbkZbiz"
      },
      "execution_count": null,
      "outputs": []
    },
    {
      "cell_type": "code",
      "source": [
        "y_train_enc = np.zeros((len(y_train), 10))\n",
        "for i in range(len(y_train)):\n",
        "    y_train_enc[i, y_train[i]] = 1"
      ],
      "metadata": {
        "id": "wa4GzpyY2BmJ"
      },
      "execution_count": null,
      "outputs": []
    },
    {
      "cell_type": "code",
      "source": [
        "# Normalizacao dos valores para ter um resultado melhor\n",
        "scaler = StandardScaler()\n",
        "X_train = scaler.fit_transform(X_train)\n",
        "X_test = scaler.transform(X_test)"
      ],
      "metadata": {
        "id": "iRiMLtB72mDr"
      },
      "execution_count": null,
      "outputs": []
    },
    {
      "cell_type": "code",
      "source": [
        "# Cria o MLP\n",
        "mlp = MLP(X_train.shape[1], 100, 10)\n",
        "\n",
        "for i in range(50):\n",
        "  epochs = 800\n",
        "  mlp.fit(X_train, y_train_enc,epochs)\n",
        "\n",
        "  # Faz as previsoes\n",
        "  y_pred = mlp.predict(X_test)\n",
        "\n",
        "  # Avalia a acuracia\n",
        "  resultado = accuracy_score(y_test, y_pred)\n",
        "  print(f'{resultado*100:.2f}')\n",
        "\n",
        "  epochs += 200\n",
        "\n"
      ],
      "metadata": {
        "colab": {
          "base_uri": "https://localhost:8080/"
        },
        "id": "Qn726B4OcNSx",
        "outputId": "251feb33-196e-4b1b-df32-a6677d8589f0"
      },
      "execution_count": null,
      "outputs": [
        {
          "output_type": "stream",
          "name": "stdout",
          "text": [
            "95.19\n",
            "95.56\n",
            "96.11\n",
            "96.30\n",
            "96.48\n",
            "96.30\n",
            "96.30\n",
            "96.30\n",
            "96.48\n",
            "96.30\n",
            "96.30\n",
            "96.48\n",
            "96.48\n",
            "96.67\n",
            "96.48\n",
            "96.48\n",
            "96.48\n",
            "96.67\n",
            "96.67\n",
            "96.67\n",
            "96.67\n",
            "96.67\n",
            "96.67\n",
            "96.67\n",
            "96.67\n",
            "96.67\n",
            "96.67\n",
            "96.67\n",
            "96.67\n",
            "96.67\n",
            "96.67\n",
            "96.67\n",
            "96.67\n",
            "96.67\n",
            "96.67\n",
            "96.67\n",
            "96.67\n",
            "96.67\n",
            "96.67\n",
            "96.67\n",
            "96.67\n",
            "96.67\n",
            "96.67\n",
            "96.67\n",
            "96.67\n",
            "96.67\n",
            "96.67\n",
            "96.67\n",
            "96.67\n",
            "96.67\n"
          ]
        }
      ]
    },
    {
      "cell_type": "code",
      "source": [
        "from sklearn.metrics import confusion_matrix\n",
        "import matplotlib.pyplot as plt\n",
        "import seaborn as sns\n",
        "\n",
        "\n",
        "cm = confusion_matrix(y_test, y_pred)\n",
        "\n",
        "plt.figure(figsize=(6, 4))\n",
        "sns.heatmap(cm, annot=True, fmt='d', cmap='Blues', cbar=False)\n",
        "plt.xlabel('Previsões')\n",
        "plt.ylabel('Rótulos Reais')\n",
        "plt.title('Matriz de Confusão')\n",
        "plt.show()"
      ],
      "metadata": {
        "colab": {
          "base_uri": "https://localhost:8080/",
          "height": 410
        },
        "id": "GhKnWJeDIied",
        "outputId": "01316f64-953d-405a-edd6-1fc3a5336227"
      },
      "execution_count": null,
      "outputs": [
        {
          "output_type": "display_data",
          "data": {
            "text/plain": [
              "<Figure size 600x400 with 1 Axes>"
            ],
            "image/png": "[encoded data removed]"
          },
          "metadata": {}
        }
      ]
    }
  ]
}